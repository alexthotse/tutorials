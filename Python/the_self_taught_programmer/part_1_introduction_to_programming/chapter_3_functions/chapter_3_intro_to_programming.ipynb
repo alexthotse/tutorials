{
 "cells": [
  {
   "cell_type": "markdown",
   "metadata": {},
   "source": [
    "# Chapter 3. Intro to Programming"
   ]
  },
  {
   "cell_type": "markdown",
   "metadata": {},
   "source": [
    "“**It’s the only job I can think of where I get to be both an engineer and an artist.** There’s an\n",
    "***incredible, rigorous, technical*** element to it, which I like because you have to do very **precise thinking**. On the other hand, it **has a wildly creative side where the boundaries of imagination are the only real limitation.**”\n",
    "—Andy Hertzfeld"
   ]
  },
  {
   "cell_type": "markdown",
   "metadata": {},
   "source": []
  },
  {
   "cell_type": "markdown",
   "metadata": {},
   "source": [
    "Our first program printed ***Hello, World!***. Let’s print it a ***hundred times***. Type the following code into the interactive shell (***print*** needs to be indented by exactly ***four spaces***):"
   ]
  },
  {
   "cell_type": "code",
   "execution_count": 1,
   "metadata": {},
   "outputs": [
    {
     "name": "stdout",
     "output_type": "stream",
     "text": [
      "Hello Gophers!! I mean Pythonians!!\n",
      "Hello Gophers!! I mean Pythonians!!\n",
      "Hello Gophers!! I mean Pythonians!!\n",
      "Hello Gophers!! I mean Pythonians!!\n",
      "Hello Gophers!! I mean Pythonians!!\n",
      "Hello Gophers!! I mean Pythonians!!\n",
      "Hello Gophers!! I mean Pythonians!!\n",
      "Hello Gophers!! I mean Pythonians!!\n",
      "Hello Gophers!! I mean Pythonians!!\n",
      "Hello Gophers!! I mean Pythonians!!\n",
      "Hello Gophers!! I mean Pythonians!!\n",
      "Hello Gophers!! I mean Pythonians!!\n",
      "Hello Gophers!! I mean Pythonians!!\n",
      "Hello Gophers!! I mean Pythonians!!\n",
      "Hello Gophers!! I mean Pythonians!!\n",
      "Hello Gophers!! I mean Pythonians!!\n",
      "Hello Gophers!! I mean Pythonians!!\n",
      "Hello Gophers!! I mean Pythonians!!\n",
      "Hello Gophers!! I mean Pythonians!!\n",
      "Hello Gophers!! I mean Pythonians!!\n",
      "Hello Gophers!! I mean Pythonians!!\n",
      "Hello Gophers!! I mean Pythonians!!\n",
      "Hello Gophers!! I mean Pythonians!!\n",
      "Hello Gophers!! I mean Pythonians!!\n",
      "Hello Gophers!! I mean Pythonians!!\n",
      "Hello Gophers!! I mean Pythonians!!\n",
      "Hello Gophers!! I mean Pythonians!!\n",
      "Hello Gophers!! I mean Pythonians!!\n",
      "Hello Gophers!! I mean Pythonians!!\n",
      "Hello Gophers!! I mean Pythonians!!\n",
      "Hello Gophers!! I mean Pythonians!!\n",
      "Hello Gophers!! I mean Pythonians!!\n",
      "Hello Gophers!! I mean Pythonians!!\n",
      "Hello Gophers!! I mean Pythonians!!\n",
      "Hello Gophers!! I mean Pythonians!!\n",
      "Hello Gophers!! I mean Pythonians!!\n",
      "Hello Gophers!! I mean Pythonians!!\n",
      "Hello Gophers!! I mean Pythonians!!\n",
      "Hello Gophers!! I mean Pythonians!!\n",
      "Hello Gophers!! I mean Pythonians!!\n",
      "Hello Gophers!! I mean Pythonians!!\n",
      "Hello Gophers!! I mean Pythonians!!\n",
      "Hello Gophers!! I mean Pythonians!!\n",
      "Hello Gophers!! I mean Pythonians!!\n",
      "Hello Gophers!! I mean Pythonians!!\n",
      "Hello Gophers!! I mean Pythonians!!\n",
      "Hello Gophers!! I mean Pythonians!!\n",
      "Hello Gophers!! I mean Pythonians!!\n",
      "Hello Gophers!! I mean Pythonians!!\n",
      "Hello Gophers!! I mean Pythonians!!\n",
      "Hello Gophers!! I mean Pythonians!!\n",
      "Hello Gophers!! I mean Pythonians!!\n",
      "Hello Gophers!! I mean Pythonians!!\n",
      "Hello Gophers!! I mean Pythonians!!\n",
      "Hello Gophers!! I mean Pythonians!!\n",
      "Hello Gophers!! I mean Pythonians!!\n",
      "Hello Gophers!! I mean Pythonians!!\n",
      "Hello Gophers!! I mean Pythonians!!\n",
      "Hello Gophers!! I mean Pythonians!!\n",
      "Hello Gophers!! I mean Pythonians!!\n",
      "Hello Gophers!! I mean Pythonians!!\n",
      "Hello Gophers!! I mean Pythonians!!\n",
      "Hello Gophers!! I mean Pythonians!!\n",
      "Hello Gophers!! I mean Pythonians!!\n",
      "Hello Gophers!! I mean Pythonians!!\n",
      "Hello Gophers!! I mean Pythonians!!\n",
      "Hello Gophers!! I mean Pythonians!!\n",
      "Hello Gophers!! I mean Pythonians!!\n",
      "Hello Gophers!! I mean Pythonians!!\n",
      "Hello Gophers!! I mean Pythonians!!\n",
      "Hello Gophers!! I mean Pythonians!!\n",
      "Hello Gophers!! I mean Pythonians!!\n",
      "Hello Gophers!! I mean Pythonians!!\n",
      "Hello Gophers!! I mean Pythonians!!\n",
      "Hello Gophers!! I mean Pythonians!!\n",
      "Hello Gophers!! I mean Pythonians!!\n",
      "Hello Gophers!! I mean Pythonians!!\n",
      "Hello Gophers!! I mean Pythonians!!\n",
      "Hello Gophers!! I mean Pythonians!!\n",
      "Hello Gophers!! I mean Pythonians!!\n",
      "Hello Gophers!! I mean Pythonians!!\n",
      "Hello Gophers!! I mean Pythonians!!\n",
      "Hello Gophers!! I mean Pythonians!!\n",
      "Hello Gophers!! I mean Pythonians!!\n",
      "Hello Gophers!! I mean Pythonians!!\n",
      "Hello Gophers!! I mean Pythonians!!\n",
      "Hello Gophers!! I mean Pythonians!!\n",
      "Hello Gophers!! I mean Pythonians!!\n",
      "Hello Gophers!! I mean Pythonians!!\n",
      "Hello Gophers!! I mean Pythonians!!\n",
      "Hello Gophers!! I mean Pythonians!!\n",
      "Hello Gophers!! I mean Pythonians!!\n",
      "Hello Gophers!! I mean Pythonians!!\n",
      "Hello Gophers!! I mean Pythonians!!\n",
      "Hello Gophers!! I mean Pythonians!!\n",
      "Hello Gophers!! I mean Pythonians!!\n",
      "Hello Gophers!! I mean Pythonians!!\n",
      "Hello Gophers!! I mean Pythonians!!\n",
      "Hello Gophers!! I mean Pythonians!!\n",
      "Hello Gophers!! I mean Pythonians!!\n"
     ]
    }
   ],
   "source": [
    "for item in range(100):\n",
    "    print(\"Hello Gophers!! I mean Pythonians!!\")"
   ]
  },
  {
   "cell_type": "markdown",
   "metadata": {},
   "source": [
    "This example quickly shows you ***how powerful programming is***. Can you think of anything else you can do a hundred times so ***easily***? I can’t. That is the power of programming."
   ]
  },
  {
   "cell_type": "markdown",
   "metadata": {},
   "source": [
    "## Examples"
   ]
  },
  {
   "cell_type": "markdown",
   "metadata": {},
   "source": [
    "- **\">>\" == the output of the program (printed in the interactive shell)**.\n",
    "- **Ellipses (...) mean \"and so on.\"**"
   ]
  },
  {
   "cell_type": "markdown",
   "metadata": {},
   "source": [
    "***Previous program will be written like this if it meant to be typed into the interactive shell:***"
   ]
  },
  {
   "cell_type": "markdown",
   "metadata": {},
   "source": [
    "```\n",
    "    for item in range(100):\n",
    "        print(\"Hello Gophers!! I mean Pythonians!!\")\n",
    "```\n",
    "```\n",
    "    >> Hello Gophers!! I mean Pythonians!!\n",
    "    >> Hello Gophers!! I mean Pythonians!!\n",
    "...\n",
    "```"
   ]
  },
  {
   "cell_type": "markdown",
   "metadata": {},
   "source": [
    "And like this if it should be run from a .py file:\n",
    "[one_hundred.py](https://goo.gl/rKQedq)"
   ]
  },
  {
   "cell_type": "markdown",
   "metadata": {},
   "source": [
    "## Comment\n",
    "- A **line (or part of a line) of code** written in English (or another language) **preceded by a special symbol** *{#, /**/, //}* **that tells the programming language** you are using to ~~ignore that line~~ (or part of a line) of code.\n",
    "\n",
    "- A comment **explains** what a line of code does.\n",
    "\n",
    "- Programmers use comments to **clarify why they did something to make the line of code easier to understand for whoever reads it**."
   ]
  },
  {
   "cell_type": "markdown",
   "metadata": {},
   "source": [
    "```\n",
    "    # This is a comment\n",
    "    print ( \"The comment does not affect this code\" )\n",
    "    >> The comment does not affect this code\n",
    "    print ( \"The comment does not affect this code\" ) # This is a comment\n",
    "    >> The comment does not affect this code\n",
    "```"
   ]
  },
  {
   "cell_type": "markdown",
   "metadata": {},
   "source": [
    "- You should only **write a comment if you are doing something unusual** in your code, **or to explain something that is not obvious** in the code itself."
   ]
  },
  {
   "cell_type": "markdown",
   "metadata": {},
   "source": [
    "### Unnecessary commenting\n",
    "- print( \"Hello, World!\" ) # this line of code prints Hello, World!\n",
    "\n",
    "### Good commenting\n",
    "- d = math.sqrt(l**2 + w**2) # length of the diagonal\n",
    "\n",
    "`\n",
    "Even if you understood exactly how this code works, you still might not know how to calculate the length of a diagonal of a rectangle, which is why this comment is useful.`"
   ]
  },
  {
   "cell_type": "markdown",
   "metadata": {},
   "source": [
    "## Printing"
   ]
  },
  {
   "cell_type": "markdown",
   "metadata": {},
   "source": [
    "We can print whatever we’d like as long as we surround it with quotes:\n",
    "```\n",
    "    print ( \"Python\" )\n",
    "    >> Python\n",
    "    print ( \"Hola!\" )\n",
    "    >> Hola!\n",
    "```"
   ]
  },
  {
   "cell_type": "markdown",
   "metadata": {},
   "source": [
    "## Lines\n",
    "- Python programs are divided into lines of code. Take a look at this program:\n",
    "\n",
    "```\n",
    "    # line1\n",
    "    # line2\n",
    "    # line3\n",
    "```\n",
    "- There are three lines of code.\n"
   ]
  },
  {
   "cell_type": "markdown",
   "metadata": {},
   "source": [
    "## Keywords"
   ]
  },
  {
   "cell_type": "markdown",
   "metadata": {},
   "source": [
    "## Spacing"
   ]
  },
  {
   "cell_type": "markdown",
   "metadata": {},
   "source": [
    "## Data Types"
   ]
  },
  {
   "cell_type": "markdown",
   "metadata": {},
   "source": [
    "## Constants and Variables"
   ]
  },
  {
   "cell_type": "markdown",
   "metadata": {},
   "source": [
    "## Syntax"
   ]
  },
  {
   "cell_type": "markdown",
   "metadata": {},
   "source": [
    "## Errors and Exceptions"
   ]
  },
  {
   "cell_type": "markdown",
   "metadata": {},
   "source": [
    "## Arithmetic Operators"
   ]
  },
  {
   "cell_type": "markdown",
   "metadata": {},
   "source": [
    "## Comparison Operators"
   ]
  },
  {
   "cell_type": "markdown",
   "metadata": {},
   "source": [
    "## Logical Operators"
   ]
  },
  {
   "cell_type": "markdown",
   "metadata": {},
   "source": [
    "## Conditional Statements"
   ]
  },
  {
   "cell_type": "markdown",
   "metadata": {},
   "source": [
    "## Statements"
   ]
  }
 ],
 "metadata": {
  "interpreter": {
   "hash": "3f344932a8f970f5eda512d596c633e0db273c18f9ddf682f9e5cc6dacf0acdc"
  },
  "kernelspec": {
   "display_name": "Python 3.8.12 ('base')",
   "language": "python",
   "name": "python3"
  },
  "language_info": {
   "codemirror_mode": {
    "name": "ipython",
    "version": 3
   },
   "file_extension": ".py",
   "mimetype": "text/x-python",
   "name": "python",
   "nbconvert_exporter": "python",
   "pygments_lexer": "ipython3",
   "version": "3.8.12"
  },
  "orig_nbformat": 4
 },
 "nbformat": 4,
 "nbformat_minor": 2
}
