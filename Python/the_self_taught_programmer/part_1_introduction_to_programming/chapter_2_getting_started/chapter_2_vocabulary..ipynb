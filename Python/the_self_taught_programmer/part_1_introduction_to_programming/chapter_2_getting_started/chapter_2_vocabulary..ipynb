{
 "cells": [
  {
   "cell_type": "code",
   "execution_count": null,
   "metadata": {},
   "outputs": [],
   "source": [
    "-> Vocabulary : Getting Started\n"
   ]
  },
  {
   "cell_type": "markdown",
   "metadata": {},
   "source": []
  },
  {
   "cell_type": "markdown",
   "metadata": {},
   "source": [
    "-> **programming:** Writing **instructions** for a computer ***to execute***."
   ]
  },
  {
   "cell_type": "markdown",
   "metadata": {},
   "source": [
    "-> **code**: The **instructions** programmers write for a computer to **execute**."
   ]
  },
  {
   "cell_type": "markdown",
   "metadata": {},
   "source": [
    "-> **low-level programming language**: A **programming language closer to** being written in **binary (0s and 1s)** than a high-level programming language."
   ]
  },
  {
   "cell_type": "markdown",
   "metadata": {},
   "source": [
    "-> **assembly language**: A type of **difficult** to read **programming language**."
   ]
  },
  {
   "cell_type": "markdown",
   "metadata": {},
   "source": [
    "-> **high-level programming language**: A **programming language that reads more like English** than a low-level programming language."
   ]
  },
  {
   "cell_type": "markdown",
   "metadata": {},
   "source": [
    "-> **Python**: The **easy to read, open-source programming language** you will learn to use in this\n",
    "book. **Created by Guido van Rossum** and **named after** the British sketch comedy group, **Monty\n",
    "Python’s Flying Circus.**"
   ]
  },
  {
   "cell_type": "markdown",
   "metadata": {},
   "source": [
    "======================================================"
   ]
  },
  {
   "cell_type": "markdown",
   "metadata": {},
   "source": [
    "**Challenge**"
   ]
  },
  {
   "cell_type": "markdown",
   "metadata": {},
   "source": [
    "-> Try to print something other than **Hello, World!**."
   ]
  },
  {
   "cell_type": "code",
   "execution_count": 2,
   "metadata": {},
   "outputs": [
    {
     "name": "stdout",
     "output_type": "stream",
     "text": [
      "I'm learning Python to become a Data Scientist!!\n"
     ]
    }
   ],
   "source": [
    "print(\"I'm learning Python to become a Data Scientist!!\")"
   ]
  },
  {
   "cell_type": "code",
   "execution_count": 1,
   "metadata": {},
   "outputs": [
    {
     "name": "stdout",
     "output_type": "stream",
     "text": [
      "Do something cool!\n"
     ]
    }
   ],
   "source": [
    "print(\"Do something cool!\")"
   ]
  }
 ],
 "metadata": {
  "interpreter": {
   "hash": "916dbcbb3f70747c44a77c7bcd40155683ae19c65e1c03b4aa3499c5328201f1"
  },
  "kernelspec": {
   "display_name": "Python 3.8.10 64-bit",
   "language": "python",
   "name": "python3"
  },
  "language_info": {
   "codemirror_mode": {
    "name": "ipython",
    "version": 3
   },
   "file_extension": ".py",
   "mimetype": "text/x-python",
   "name": "python",
   "nbconvert_exporter": "python",
   "pygments_lexer": "ipython3",
   "version": "3.8.12"
  },
  "orig_nbformat": 4
 },
 "nbformat": 4,
 "nbformat_minor": 2
}
